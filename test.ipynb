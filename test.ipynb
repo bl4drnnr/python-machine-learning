{
 "cells": [
  {
   "cell_type": "code",
   "execution_count": 10,
   "id": "07fe1b6b-031f-4b8a-9d77-9339c3be8d6f",
   "metadata": {},
   "outputs": [
    {
     "name": "stdout",
     "output_type": "stream",
     "text": [
      "M          object\n",
      "0.455     float64\n",
      "0.365     float64\n",
      "0.095     float64\n",
      "0.514     float64\n",
      "0.2245    float64\n",
      "0.101     float64\n",
      "0.15      float64\n",
      "15          int64\n",
      "dtype: object\n",
      "      M  0.455  0.365  0.095   0.514  0.2245   0.101    0.15  15\n",
      "0     M  0.350  0.265  0.090  0.2255  0.0995  0.0485  0.0700   7\n",
      "1     F  0.530  0.420  0.135  0.6770  0.2565  0.1415  0.2100   9\n",
      "2     M  0.440  0.365  0.125  0.5160  0.2155  0.1140  0.1550  10\n",
      "3     I  0.330  0.255  0.080  0.2050  0.0895  0.0395  0.0550   7\n",
      "4     I  0.425  0.300  0.095  0.3515  0.1410  0.0775  0.1200   8\n",
      "...  ..    ...    ...    ...     ...     ...     ...     ...  ..\n",
      "4171  F  0.565  0.450  0.165  0.8870  0.3700  0.2390  0.2490  11\n",
      "4172  M  0.590  0.440  0.135  0.9660  0.4390  0.2145  0.2605  10\n",
      "4173  M  0.600  0.475  0.205  1.1760  0.5255  0.2875  0.3080   9\n",
      "4174  F  0.625  0.485  0.150  1.0945  0.5310  0.2610  0.2960  10\n",
      "4175  M  0.710  0.555  0.195  1.9485  0.9455  0.3765  0.4950  12\n",
      "\n",
      "[3780 rows x 9 columns]\n"
     ]
    }
   ],
   "source": [
    "import pandas as pd\n",
    "\n",
    "# Load the Abalone dataset (replace 'path_to_abalone.csv' with the actual path)\n",
    "df = pd.read_csv('abalone/abalone.data')\n",
    "print(df.dtypes)\n",
    "\n",
    "# Select numerical columns (excluding non-numeric columns like 'Sex')\n",
    "numeric_columns = df.select_dtypes(include=['float64', 'int64']).columns\n",
    "\n",
    "# Calculate the first quartile (Q1) and third quartile (Q3) for each numeric column\n",
    "Q1 = df[numeric_columns].quantile(0.25)\n",
    "Q3 = df[numeric_columns].quantile(0.75)\n",
    "\n",
    "# Calculate the interquartile range (IQR) for each numeric column\n",
    "IQR = Q3 - Q1\n",
    "\n",
    "# Create a boolean mask for outliers\n",
    "outliers_mask = ((df[numeric_columns] < (Q1 - 1.5 * IQR)) | (df[numeric_columns] > (Q3 + 1.5 * IQR))).any(axis=1)\n",
    "\n",
    "# Drop rows with outliers\n",
    "df_no_outliers = df[~outliers_mask]\n",
    "\n",
    "# Display the resulting dataframe without outliers\n",
    "print(df_no_outliers)\n"
   ]
  }
 ],
 "metadata": {
  "kernelspec": {
   "display_name": "Python 3 (ipykernel)",
   "language": "python",
   "name": "python3"
  },
  "language_info": {
   "codemirror_mode": {
    "name": "ipython",
    "version": 3
   },
   "file_extension": ".py",
   "mimetype": "text/x-python",
   "name": "python",
   "nbconvert_exporter": "python",
   "pygments_lexer": "ipython3",
   "version": "3.11.6"
  }
 },
 "nbformat": 4,
 "nbformat_minor": 5
}
